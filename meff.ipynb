{
 "cells": [
  {
   "cell_type": "code",
   "execution_count": 276,
   "metadata": {},
   "outputs": [],
   "source": [
    "from pathlib import Path\n",
    "\n",
    "from selenium import webdriver\n",
    "from selenium.webdriver.common.by import By\n",
    "from selenium.webdriver.support.ui import WebDriverWait\n",
    "from selenium.webdriver.support import expected_conditions as EC\n",
    "\n",
    "import time\n",
    "import datetime\n",
    "import pandas as pd\n",
    "import plotly.express as px\n",
    "\n",
    "\n",
    "\n",
    "\n",
    "def obtener_historicos():\n",
    "    #obtenemos los históricos guardados\n",
    "    df_FTB_trimestral_historicos_FTB=pd.read_csv('historicos_FTB.csv',sep=';')\n",
    "    ##LAS DOS LINEAS SIGUIENTES LAS USABA CON EL FORMATO INICIAL DE FECHA 01/01/2024 Y PRECIO SIN PUNTOS\n",
    "    #df_FTB_trimestral_historicos_FTB['Precio']=df_FTB_trimestral_historicos_FTB['Precio']/100\n",
    "    #df_FTB_trimestral_historicos_FTB['Fecha']=pd.to_datetime(df_FTB_trimestral_historicos_FTB['Fecha'], format='%d/%m/%Y')\n",
    "    df_FTB_trimestral_historicos_FTB['Fecha']=pd.to_datetime(df_FTB_trimestral_historicos_FTB['Fecha'], format='%Y-%m-%d')\n",
    "    #obtenemos la fecha del último registro\n",
    "    ultimo_registro=df_FTB_trimestral_historicos_FTB['Fecha'].max().date()\n",
    "    \n",
    "    return df_FTB_trimestral_historicos_FTB, ultimo_registro\n",
    "\n",
    "\n",
    "\n",
    "\n",
    "def obtener_param_meff(ultimo_registro):\n",
    "    #OBTENEMOS LAS FECHAS DE INICIO Y FINAL PARA LA DESCARGA DE MEFF\n",
    "    #datetime date\n",
    "    fecha_fin=datetime.datetime.now().date()\n",
    "    #str parámetro a pasar\n",
    "    fecha_fin_meff=fecha_fin.strftime('%d/%m/%Y')\n",
    "    #str parámetro a pasar\n",
    "    fecha_ini_meff=(ultimo_registro+datetime.timedelta(days=1)).strftime('%d/%m/%Y')\n",
    "    #OBTENEMOS LA RUTA PARA DESCARGAR MEFF\n",
    "    #path\n",
    "    ruta_app=Path.cwd()\n",
    "    #convertido a str como parámetro def\n",
    "    ruta_app_str=str(ruta_app)\n",
    "\n",
    "    return ruta_app_str,fecha_ini_meff,fecha_fin_meff\n",
    "\n",
    "\n",
    "def descargar_meff(ruta_app_str,fecha_ini_meff,fecha_fin_meff):\n",
    "\n",
    "    # Configurar la descarga automática para archivos .xls\n",
    "    chrome_options = webdriver.ChromeOptions()\n",
    "    #la ruta debe ser en str\n",
    "    prefs = {\n",
    "        \"download.default_directory\": ruta_app_str, \n",
    "        \"download.prompt_for_download\": False,\n",
    "        \"download.directory_upgrade\": True,\n",
    "        \"safebrowsing.enabled\": True\n",
    "        }\n",
    "    chrome_options.add_experimental_option(\"prefs\", prefs)\n",
    "    \n",
    "    chrome_options.add_argument(\"--headless\")\n",
    "    #chrome_options.add_argument(\"--disable-gpu\")\n",
    "    #chrome_options.add_argument(\"--window-size=1920x1080\")\n",
    "    #chrome_options.add_argument(\"--no-sandbox\")\n",
    "    #chrome_options.add_argument(\"--disable-dev-shm-usage\")\n",
    "\n",
    "\n",
    "    driver = webdriver.Chrome(options=chrome_options)\n",
    "    \n",
    "    # Abrir la página web\n",
    "    driver.get(\"https://www.meff.es/esp/Derivados-Commodities/Historico-Detalle\")\n",
    "\n",
    "    # Aceptar cookies\n",
    "    try:\n",
    "        aceptar_cookies = WebDriverWait(driver, 10).until(\n",
    "            EC.element_to_be_clickable((By.ID, 'onetrust-accept-btn-handler'))\n",
    "            )\n",
    "        aceptar_cookies.click()\n",
    "    \n",
    "    except Exception as e:\n",
    "        print(f\"Error al aceptar cookies: {e}\")\n",
    "    print(3)\n",
    "    # Introducir las fechas en los campos \"Desde\" y \"Hasta\"\n",
    "    try:\n",
    "        # Esperar a que el campo \"Desde\" esté presente e introducir la fecha\n",
    "        campo_desde = WebDriverWait(driver, 10).until(\n",
    "        EC.presence_of_element_located((By.NAME, 'ctl00$ctl00$Contenido$Contenido$Desde$Desde_Fecha'))\n",
    "        )\n",
    "        campo_desde.clear() # Limpiar el campo antes de ingresar la fecha\n",
    "        \n",
    "        #fecha de inicio \n",
    "        campo_desde.send_keys(fecha_ini_meff) # Introduce la fecha \"Desde\" aquí\n",
    "\n",
    "        # Esperar a que el campo \"Hasta\" esté presente e introducir la fecha\n",
    "        campo_hasta = WebDriverWait(driver, 10).until(\n",
    "        EC.presence_of_element_located((By.NAME, 'ctl00$ctl00$Contenido$Contenido$Hasta$Hasta_Fecha'))\n",
    "        )\n",
    "        campo_hasta.clear() # Limpiar el campo antes de ingresar la fecha\n",
    "\n",
    "        #fecha de fin\n",
    "        campo_hasta.send_keys(fecha_fin_meff) \n",
    "\n",
    "        # Hacer clic en el botón de búsqueda/descarga\n",
    "        boton_descarga = WebDriverWait(driver, 10).until(\n",
    "        EC.element_to_be_clickable((By.NAME, 'ctl00$ctl00$Contenido$Contenido$Buscar'))\n",
    "        )\n",
    "        boton_descarga.click()\n",
    "\n",
    "        # Esperar unos segundos para asegurarse de que la descarga se complete\n",
    "        time.sleep(3)\n",
    "\n",
    "    except Exception as e:\n",
    "        print(f\"Error al interactuar con los campos de fecha o al intentar descargar el archivo: {e}\")\n",
    "\n",
    "    # Cerrar el navegador\n",
    "    driver.quit()\n",
    "\n",
    "    ruta_archivo=Path(f'{ruta_app_str}\\PreciosCierreDerEnergia.xls')\n",
    "    if ruta_archivo.exists():\n",
    "        try:\n",
    "            df_FTB_trimestral_datos_raw=pd.read_html(ruta_archivo)[0]\n",
    "            #print(ruta_archivo)\n",
    "            \n",
    "            #filtramos codigo por FTB\n",
    "            df_FTB_trimestral_ftb_meff=df_FTB_trimestral_datos_raw[df_FTB_trimestral_datos_raw['Cod.'].str.startswith('FTB')]\n",
    "            df_FTB_trimestral_ftb_meff=df_FTB_trimestral_ftb_meff.copy().reset_index(drop=True)\n",
    "            #df_FTB_trimestral_ftb_meff=pd.read_csv('PreciosCierreDerEnergia.xls',sep=';')\n",
    "            df_FTB_trimestral_ftb_meff['Precio']=df_FTB_trimestral_ftb_meff['Precio']/100\n",
    "            df_FTB_trimestral_ftb_meff['Fecha']=pd.to_datetime(df_FTB_trimestral_ftb_meff['Fecha'], format='%d/%m/%Y')\n",
    "            ruta_archivo.unlink()\n",
    "            return df_FTB_trimestral_ftb_meff, True\n",
    "        except Exception as e:\n",
    "            return None, False\n",
    "    else:\n",
    "        return None, False\n",
    "\n",
    "    \n",
    "\n",
    "\n",
    "#webmeff es un flag true o false. si es true, vamos a la web de meff y actualizamos el histórico csv FTB. \n",
    "#en caso contrario, abrimos el histórico directamente\n",
    "def obtener_FTB(web_meff):\n",
    "    df_FTB_trimestral_historicos, ultimo_registro=obtener_historicos()\n",
    "    if web_meff:\n",
    "        ruta_app_str,fecha_ini_meff,fecha_fin_meff=obtener_param_meff(ultimo_registro)\n",
    "        df_FTB_trimestral_ftb_meff, hay_datos=descargar_meff(ruta_app_str,fecha_ini_meff,fecha_fin_meff)\n",
    "        #print(df_FTB_trimestral_ftb_meff)\n",
    "        \n",
    "        if hay_datos:\n",
    "            df_FTB_trimestral_FTB=pd.concat([df_FTB_trimestral_historicos,df_FTB_trimestral_ftb_meff],ignore_index=True)\n",
    "            df_FTB_trimestral_FTB.to_csv('historicos_FTB.csv',sep=';',index=False)\n",
    "        else:\n",
    "            df_FTB_trimestral_FTB=df_FTB_trimestral_historicos\n",
    "        \n",
    "    else:\n",
    "        df_FTB_trimestral_FTB=df_FTB_trimestral_historicos\n",
    "\n",
    "    return df_FTB_trimestral_FTB\n",
    "\n"
   ]
  },
  {
   "cell_type": "code",
   "execution_count": 277,
   "metadata": {},
   "outputs": [],
   "source": [
    "def obtener_meff_trimestral():\n",
    "    \n",
    "    df_FTB_trimestral = obtener_FTB(web_meff=False)\n",
    "    #filtramos por Periodo 'Trimestral'\n",
    "    df_FTB_trimestral=df_FTB_trimestral[df_FTB_trimestral['Cod.'].str.startswith('FTBCQ')]\n",
    "    #hacemos copy del df_FTB_trimestral\n",
    "    #df_FTB_trimestral=df_FTB_trimestral.copy()\n",
    "    #eliminamos columnas innecesarias\n",
    "    df_FTB_trimestral=df_FTB_trimestral.iloc[:,[0,1,5,7,14]]\n",
    "    df_FTB_trimestral=df_FTB_trimestral.copy()\n",
    "    # calculamos año y trimestre de la fecha actual\n",
    "    current_date = datetime.datetime.now()\n",
    "    current_trim = (current_date.month - 1) // 3 + 1\n",
    "    current_year = current_date.year % 100  # Tomamos los últimos dos dígitos del año\n",
    "\n",
    "    # generamos los trimestres siguientes al actual\n",
    "    next_quarters = []\n",
    "    for i in range(1, 5):\n",
    "        next_trim = current_trim + i\n",
    "        next_year = current_year\n",
    "        if next_trim > 4:  # Si pasamos de Q4, volvemos a Q1 y aumentamos el año\n",
    "            next_trim = next_trim % 4\n",
    "            if next_trim==0:\n",
    "                next_trim=4\n",
    "            next_year += 1\n",
    "        next_quarters.append(f'Q{next_trim}-{next_year}')\n",
    "\n",
    "    # Paso 3: Filtrar el DataFrame para los siguientes cuatro trimestres\n",
    "    df_FTB_trimestral['Entrega_Año'] = df_FTB_trimestral['Entrega'].str.split('-').str[1].astype(int)\n",
    "    df_FTB_trimestral['Entrega_Trim'] = df_FTB_trimestral['Entrega'].str.split('-').str[0].str[1].astype(int)\n",
    "\n",
    "    # Concatenamos trimestre y año para comparar con la lista generada\n",
    "    df_FTB_trimestral['Trim_Año'] = df_FTB_trimestral['Entrega'].apply(lambda x: x)\n",
    "\n",
    "    # Filtramos los trimestres que coinciden con los próximos cuatro\n",
    "    df_FTB_trimestral_filtrado = df_FTB_trimestral[df_FTB_trimestral['Trim_Año'].isin(next_quarters)]\n",
    "\n",
    "    # Elimina las columnas temporales si lo deseas\n",
    "    df_FTB_trimestral_filtrado = df_FTB_trimestral_filtrado.drop(columns=['Entrega_Año', 'Entrega_Trim', 'Trim_Año'])\n",
    "    trimestres_entrega=df_FTB_trimestral_filtrado['Entrega'].unique()\n",
    "\n",
    "    #VALOR EXPORTADO\n",
    "    fecha_ultimo_omip=df_FTB_trimestral_filtrado['Fecha'].max().date()\n",
    "    #VALOR EXPORTADO\n",
    "    media_omip=df_FTB_trimestral_filtrado['Precio'].iloc[-4:].mean()\n",
    "        \n",
    "    return df_FTB_trimestral_filtrado, fecha_ultimo_omip, media_omip"
   ]
  },
  {
   "cell_type": "code",
   "execution_count": 278,
   "metadata": {},
   "outputs": [
    {
     "data": {
      "text/plain": [
       "Timestamp('2024-10-04 00:00:00')"
      ]
     },
     "execution_count": 278,
     "metadata": {},
     "output_type": "execute_result"
    }
   ],
   "source": []
  },
  {
   "cell_type": "code",
   "execution_count": 279,
   "metadata": {},
   "outputs": [],
   "source": [
    "df_FTB_trimestral_filtrado,fecha_ultimo_omip, media_omip = obtener_meff_trimestral()"
   ]
  },
  {
   "cell_type": "code",
   "execution_count": 284,
   "metadata": {},
   "outputs": [
    {
     "data": {
      "text/plain": [
       "datetime.date(2024, 10, 4)"
      ]
     },
     "execution_count": 284,
     "metadata": {},
     "output_type": "execute_result"
    }
   ],
   "source": [
    "fecha_ultimo_omip"
   ]
  },
  {
   "cell_type": "code",
   "execution_count": 280,
   "metadata": {},
   "outputs": [
    {
     "data": {
      "text/plain": [
       "Fecha             datetime64[ns]\n",
       "Cod.                      object\n",
       "Entrega                   object\n",
       "Inicio Entrega            object\n",
       "Precio                   float64\n",
       "dtype: object"
      ]
     },
     "execution_count": 280,
     "metadata": {},
     "output_type": "execute_result"
    }
   ],
   "source": [
    "df_FTB_trimestral_filtrado.dtypes"
   ]
  },
  {
   "cell_type": "code",
   "execution_count": 281,
   "metadata": {},
   "outputs": [],
   "source": [
    "def obtener_grafico_meff(df_FTB_trimestral_filtrado):\n",
    "    graf_omip_trim=px.line(df_FTB_trimestral_filtrado,\n",
    "        x='Fecha',\n",
    "        y='Precio',\n",
    "        facet_col='Entrega',\n",
    "        labels={'Precio':'€/MWh'}\n",
    "        )\n",
    "    return graf_omip_trim"
   ]
  },
  {
   "cell_type": "code",
   "execution_count": 282,
   "metadata": {},
   "outputs": [],
   "source": [
    "graf_omip_trim=obtener_grafico_meff(df_FTB_trimestral_filtrado)"
   ]
  },
  {
   "cell_type": "code",
   "execution_count": 283,
   "metadata": {},
   "outputs": [
    {
     "data": {
      "application/vnd.plotly.v1+json": {
       "config": {
        "plotlyServerURL": "https://plot.ly"
       },
       "data": [
        {
         "hovertemplate": "Entrega=Q1-25<br>Fecha=%{x}<br>€/MWh=%{y}<extra></extra>",
         "legendgroup": "",
         "line": {
          "color": "#636efa",
          "dash": "solid"
         },
         "marker": {
          "symbol": "circle"
         },
         "mode": "lines",
         "name": "",
         "orientation": "v",
         "showlegend": false,
         "type": "scatter",
         "x": [
          "2023-12-01T00:00:00",
          "2023-12-04T00:00:00",
          "2023-12-05T00:00:00",
          "2023-12-06T00:00:00",
          "2023-12-07T00:00:00",
          "2023-12-08T00:00:00",
          "2023-12-11T00:00:00",
          "2023-12-12T00:00:00",
          "2023-12-13T00:00:00",
          "2023-12-14T00:00:00",
          "2023-12-15T00:00:00",
          "2023-12-18T00:00:00",
          "2023-12-19T00:00:00",
          "2023-12-20T00:00:00",
          "2023-12-21T00:00:00",
          "2023-12-22T00:00:00",
          "2023-12-27T00:00:00",
          "2023-12-28T00:00:00",
          "2023-12-29T00:00:00",
          "2024-01-02T00:00:00",
          "2024-01-03T00:00:00",
          "2024-01-04T00:00:00",
          "2024-01-05T00:00:00",
          "2024-01-08T00:00:00",
          "2024-01-09T00:00:00",
          "2024-01-10T00:00:00",
          "2024-01-11T00:00:00",
          "2024-01-12T00:00:00",
          "2024-01-15T00:00:00",
          "2024-01-16T00:00:00",
          "2024-01-17T00:00:00",
          "2024-01-18T00:00:00",
          "2024-01-19T00:00:00",
          "2024-01-22T00:00:00",
          "2024-01-23T00:00:00",
          "2024-01-24T00:00:00",
          "2024-01-25T00:00:00",
          "2024-01-26T00:00:00",
          "2024-01-29T00:00:00",
          "2024-01-30T00:00:00",
          "2024-01-31T00:00:00",
          "2024-02-01T00:00:00",
          "2024-02-02T00:00:00",
          "2024-02-05T00:00:00",
          "2024-02-06T00:00:00",
          "2024-02-07T00:00:00",
          "2024-02-08T00:00:00",
          "2024-02-09T00:00:00",
          "2024-02-12T00:00:00",
          "2024-02-13T00:00:00",
          "2024-02-14T00:00:00",
          "2024-02-15T00:00:00",
          "2024-02-16T00:00:00",
          "2024-02-19T00:00:00",
          "2024-02-20T00:00:00",
          "2024-02-21T00:00:00",
          "2024-02-22T00:00:00",
          "2024-02-23T00:00:00",
          "2024-02-26T00:00:00",
          "2024-02-27T00:00:00",
          "2024-02-28T00:00:00",
          "2024-02-29T00:00:00",
          "2024-03-01T00:00:00",
          "2024-03-04T00:00:00",
          "2024-03-05T00:00:00",
          "2024-03-06T00:00:00",
          "2024-03-07T00:00:00",
          "2024-03-08T00:00:00",
          "2024-03-11T00:00:00",
          "2024-03-12T00:00:00",
          "2024-03-13T00:00:00",
          "2024-03-14T00:00:00",
          "2024-03-15T00:00:00",
          "2024-03-18T00:00:00",
          "2024-03-19T00:00:00",
          "2024-03-20T00:00:00",
          "2024-03-21T00:00:00",
          "2024-03-22T00:00:00",
          "2024-03-25T00:00:00",
          "2024-03-26T00:00:00",
          "2024-03-27T00:00:00",
          "2024-03-28T00:00:00",
          "2024-04-02T00:00:00",
          "2024-04-03T00:00:00",
          "2024-04-04T00:00:00",
          "2024-04-05T00:00:00",
          "2024-04-08T00:00:00",
          "2024-04-09T00:00:00",
          "2024-04-10T00:00:00",
          "2024-04-11T00:00:00",
          "2024-04-12T00:00:00",
          "2024-04-15T00:00:00",
          "2024-04-16T00:00:00",
          "2024-04-17T00:00:00",
          "2024-04-18T00:00:00",
          "2024-04-19T00:00:00",
          "2024-04-22T00:00:00",
          "2024-04-23T00:00:00",
          "2024-04-24T00:00:00",
          "2024-04-25T00:00:00",
          "2024-04-26T00:00:00",
          "2024-04-29T00:00:00",
          "2024-04-30T00:00:00",
          "2024-05-02T00:00:00",
          "2024-05-03T00:00:00",
          "2024-05-06T00:00:00",
          "2024-05-07T00:00:00",
          "2024-05-08T00:00:00",
          "2024-05-09T00:00:00",
          "2024-05-10T00:00:00",
          "2024-05-13T00:00:00",
          "2024-05-14T00:00:00",
          "2024-05-15T00:00:00",
          "2024-05-16T00:00:00",
          "2024-05-17T00:00:00",
          "2024-05-20T00:00:00",
          "2024-05-21T00:00:00",
          "2024-05-22T00:00:00",
          "2024-05-23T00:00:00",
          "2024-05-24T00:00:00",
          "2024-05-27T00:00:00",
          "2024-05-28T00:00:00",
          "2024-05-29T00:00:00",
          "2024-05-30T00:00:00",
          "2024-05-31T00:00:00",
          "2024-06-03T00:00:00",
          "2024-06-04T00:00:00",
          "2024-06-05T00:00:00",
          "2024-06-06T00:00:00",
          "2024-06-07T00:00:00",
          "2024-06-10T00:00:00",
          "2024-06-11T00:00:00",
          "2024-06-12T00:00:00",
          "2024-06-13T00:00:00",
          "2024-06-14T00:00:00",
          "2024-06-17T00:00:00",
          "2024-06-18T00:00:00",
          "2024-06-19T00:00:00",
          "2024-06-20T00:00:00",
          "2024-06-21T00:00:00",
          "2024-06-24T00:00:00",
          "2024-06-25T00:00:00",
          "2024-06-26T00:00:00",
          "2024-06-27T00:00:00",
          "2024-06-28T00:00:00",
          "2024-07-01T00:00:00",
          "2024-07-02T00:00:00",
          "2024-07-03T00:00:00",
          "2024-07-04T00:00:00",
          "2024-07-05T00:00:00",
          "2024-07-08T00:00:00",
          "2024-07-09T00:00:00",
          "2024-07-10T00:00:00",
          "2024-07-11T00:00:00",
          "2024-07-12T00:00:00",
          "2024-07-15T00:00:00",
          "2024-07-16T00:00:00",
          "2024-07-17T00:00:00",
          "2024-07-18T00:00:00",
          "2024-07-19T00:00:00",
          "2024-07-22T00:00:00",
          "2024-07-23T00:00:00",
          "2024-07-24T00:00:00",
          "2024-07-25T00:00:00",
          "2024-07-26T00:00:00",
          "2024-07-29T00:00:00",
          "2024-07-30T00:00:00",
          "2024-07-31T00:00:00",
          "2024-08-01T00:00:00",
          "2024-08-02T00:00:00",
          "2024-08-05T00:00:00",
          "2024-08-06T00:00:00",
          "2024-08-07T00:00:00",
          "2024-08-08T00:00:00",
          "2024-08-09T00:00:00",
          "2024-08-12T00:00:00",
          "2024-08-13T00:00:00",
          "2024-08-14T00:00:00",
          "2024-08-15T00:00:00",
          "2024-08-16T00:00:00",
          "2024-08-19T00:00:00",
          "2024-08-20T00:00:00",
          "2024-08-21T00:00:00",
          "2024-08-22T00:00:00",
          "2024-08-23T00:00:00",
          "2024-08-26T00:00:00",
          "2024-08-27T00:00:00",
          "2024-08-28T00:00:00",
          "2024-08-29T00:00:00",
          "2024-08-30T00:00:00",
          "2024-09-02T00:00:00",
          "2024-09-03T00:00:00",
          "2024-09-04T00:00:00",
          "2024-09-05T00:00:00",
          "2024-09-06T00:00:00",
          "2024-09-09T00:00:00",
          "2024-09-10T00:00:00",
          "2024-09-11T00:00:00",
          "2024-09-12T00:00:00",
          "2024-09-13T00:00:00",
          "2024-09-16T00:00:00",
          "2024-09-17T00:00:00",
          "2024-09-18T00:00:00",
          "2024-09-19T00:00:00",
          "2024-09-20T00:00:00",
          "2024-09-23T00:00:00",
          "2024-09-24T00:00:00",
          "2024-09-25T00:00:00",
          "2024-09-26T00:00:00",
          "2024-09-27T00:00:00",
          "2024-09-30T00:00:00",
          "2024-10-01T00:00:00",
          "2024-10-02T00:00:00",
          "2024-10-03T00:00:00",
          "2024-10-04T00:00:00"
         ],
         "xaxis": "x",
         "y": [
          98.06,
          96.31,
          95.31,
          93.56,
          93.19,
          91.56,
          90.06,
          86.06,
          85.56,
          84.81,
          84.56,
          86.06,
          84.56,
          84.56,
          85.06,
          85.06,
          86.56,
          83.31,
          82.56,
          80.56,
          81.56,
          82.06,
          83.81,
          81.31,
          80.59,
          78,
          77,
          76.5,
          67,
          65,
          61.5,
          60,
          60,
          59,
          59.1,
          62,
          63,
          62.5,
          61.5,
          62,
          63,
          62.03,
          62.25,
          60.5,
          60.25,
          58.5,
          57.75,
          55,
          54,
          53,
          54.5,
          55,
          54.7,
          53,
          53.15,
          53,
          52.65,
          51.8,
          52.75,
          53.25,
          55.5,
          55.25,
          55.5,
          56.75,
          58,
          58,
          57.75,
          57,
          56.25,
          55.75,
          55.27,
          56.27,
          58.25,
          60.75,
          60.81,
          60.5,
          59,
          60,
          60.88,
          56.5,
          57.25,
          57.31,
          54.65,
          54.73,
          54.5,
          56,
          57.94,
          58,
          57.3,
          61,
          63,
          62.5,
          65.11,
          63.52,
          65.75,
          66.25,
          65.46,
          64.2,
          64,
          65,
          64.47,
          64,
          65.15,
          67,
          67.37,
          67.5,
          67.46,
          67.5,
          69,
          69.56,
          69.22,
          69.75,
          69.67,
          70.81,
          70.5,
          72.13,
          74,
          76.75,
          80.5,
          78.95,
          79.5,
          78.6,
          78.5,
          79.25,
          78.65,
          79.5,
          76,
          73.65,
          72.25,
          71.75,
          71.25,
          71.57,
          72.25,
          73.5,
          72.5,
          70.45,
          72,
          72,
          75,
          73.94,
          74,
          75,
          75.75,
          76.75,
          78,
          77.99,
          77.87,
          77,
          77.5,
          77,
          77,
          76,
          75,
          75.75,
          75.82,
          75.2,
          75.25,
          74.41,
          74.41,
          74.82,
          75,
          74.75,
          75.5,
          75.5,
          75.85,
          77.5,
          77.84,
          80,
          81.4,
          81.3,
          79.1,
          80,
          81.5,
          84.5,
          85,
          86.67,
          86,
          85.25,
          85,
          85.25,
          86,
          85,
          82,
          80.5,
          80,
          80.25,
          82.2,
          82.1,
          82.73,
          81.25,
          80.5,
          78.69,
          76.33,
          76.43,
          75.75,
          75.5,
          73,
          72.76,
          71.08,
          70.51,
          68.4,
          69.5,
          69,
          67.6,
          68.5,
          69.55,
          69.25,
          69.5,
          69.75,
          70.5,
          69.45,
          68.44,
          68.53,
          69,
          70.05
         ],
         "yaxis": "y"
        },
        {
         "hovertemplate": "Entrega=Q2-25<br>Fecha=%{x}<br>€/MWh=%{y}<extra></extra>",
         "legendgroup": "",
         "line": {
          "color": "#636efa",
          "dash": "solid"
         },
         "marker": {
          "symbol": "circle"
         },
         "mode": "lines",
         "name": "",
         "orientation": "v",
         "showlegend": false,
         "type": "scatter",
         "x": [
          "2023-12-01T00:00:00",
          "2023-12-04T00:00:00",
          "2023-12-05T00:00:00",
          "2023-12-06T00:00:00",
          "2023-12-07T00:00:00",
          "2023-12-08T00:00:00",
          "2023-12-11T00:00:00",
          "2023-12-12T00:00:00",
          "2023-12-13T00:00:00",
          "2023-12-14T00:00:00",
          "2023-12-15T00:00:00",
          "2023-12-18T00:00:00",
          "2023-12-19T00:00:00",
          "2023-12-20T00:00:00",
          "2023-12-21T00:00:00",
          "2023-12-22T00:00:00",
          "2023-12-27T00:00:00",
          "2023-12-28T00:00:00",
          "2023-12-29T00:00:00",
          "2024-01-02T00:00:00",
          "2024-01-03T00:00:00",
          "2024-01-04T00:00:00",
          "2024-01-05T00:00:00",
          "2024-01-08T00:00:00",
          "2024-01-09T00:00:00",
          "2024-01-10T00:00:00",
          "2024-01-11T00:00:00",
          "2024-01-12T00:00:00",
          "2024-01-15T00:00:00",
          "2024-01-16T00:00:00",
          "2024-01-17T00:00:00",
          "2024-01-18T00:00:00",
          "2024-01-19T00:00:00",
          "2024-01-22T00:00:00",
          "2024-01-23T00:00:00",
          "2024-01-24T00:00:00",
          "2024-01-25T00:00:00",
          "2024-01-26T00:00:00",
          "2024-01-29T00:00:00",
          "2024-01-30T00:00:00",
          "2024-01-31T00:00:00",
          "2024-02-01T00:00:00",
          "2024-02-02T00:00:00",
          "2024-02-05T00:00:00",
          "2024-02-06T00:00:00",
          "2024-02-07T00:00:00",
          "2024-02-08T00:00:00",
          "2024-02-09T00:00:00",
          "2024-02-12T00:00:00",
          "2024-02-13T00:00:00",
          "2024-02-14T00:00:00",
          "2024-02-15T00:00:00",
          "2024-02-16T00:00:00",
          "2024-02-19T00:00:00",
          "2024-02-20T00:00:00",
          "2024-02-21T00:00:00",
          "2024-02-22T00:00:00",
          "2024-02-23T00:00:00",
          "2024-02-26T00:00:00",
          "2024-02-27T00:00:00",
          "2024-02-28T00:00:00",
          "2024-02-29T00:00:00",
          "2024-03-01T00:00:00",
          "2024-03-04T00:00:00",
          "2024-03-05T00:00:00",
          "2024-03-06T00:00:00",
          "2024-03-07T00:00:00",
          "2024-03-08T00:00:00",
          "2024-03-11T00:00:00",
          "2024-03-12T00:00:00",
          "2024-03-13T00:00:00",
          "2024-03-14T00:00:00",
          "2024-03-15T00:00:00",
          "2024-03-18T00:00:00",
          "2024-03-19T00:00:00",
          "2024-03-20T00:00:00",
          "2024-03-21T00:00:00",
          "2024-03-22T00:00:00",
          "2024-03-25T00:00:00",
          "2024-03-26T00:00:00",
          "2024-03-27T00:00:00",
          "2024-03-28T00:00:00",
          "2024-04-02T00:00:00",
          "2024-04-03T00:00:00",
          "2024-04-04T00:00:00",
          "2024-04-05T00:00:00",
          "2024-04-08T00:00:00",
          "2024-04-09T00:00:00",
          "2024-04-10T00:00:00",
          "2024-04-11T00:00:00",
          "2024-04-12T00:00:00",
          "2024-04-15T00:00:00",
          "2024-04-16T00:00:00",
          "2024-04-17T00:00:00",
          "2024-04-18T00:00:00",
          "2024-04-19T00:00:00",
          "2024-04-22T00:00:00",
          "2024-04-23T00:00:00",
          "2024-04-24T00:00:00",
          "2024-04-25T00:00:00",
          "2024-04-26T00:00:00",
          "2024-04-29T00:00:00",
          "2024-04-30T00:00:00",
          "2024-05-02T00:00:00",
          "2024-05-03T00:00:00",
          "2024-05-06T00:00:00",
          "2024-05-07T00:00:00",
          "2024-05-08T00:00:00",
          "2024-05-09T00:00:00",
          "2024-05-10T00:00:00",
          "2024-05-13T00:00:00",
          "2024-05-14T00:00:00",
          "2024-05-15T00:00:00",
          "2024-05-16T00:00:00",
          "2024-05-17T00:00:00",
          "2024-05-20T00:00:00",
          "2024-05-21T00:00:00",
          "2024-05-22T00:00:00",
          "2024-05-23T00:00:00",
          "2024-05-24T00:00:00",
          "2024-05-27T00:00:00",
          "2024-05-28T00:00:00",
          "2024-05-29T00:00:00",
          "2024-05-30T00:00:00",
          "2024-05-31T00:00:00",
          "2024-06-03T00:00:00",
          "2024-06-04T00:00:00",
          "2024-06-05T00:00:00",
          "2024-06-06T00:00:00",
          "2024-06-07T00:00:00",
          "2024-06-10T00:00:00",
          "2024-06-11T00:00:00",
          "2024-06-12T00:00:00",
          "2024-06-13T00:00:00",
          "2024-06-14T00:00:00",
          "2024-06-17T00:00:00",
          "2024-06-18T00:00:00",
          "2024-06-19T00:00:00",
          "2024-06-20T00:00:00",
          "2024-06-21T00:00:00",
          "2024-06-24T00:00:00",
          "2024-06-25T00:00:00",
          "2024-06-26T00:00:00",
          "2024-06-27T00:00:00",
          "2024-06-28T00:00:00",
          "2024-07-01T00:00:00",
          "2024-07-02T00:00:00",
          "2024-07-03T00:00:00",
          "2024-07-04T00:00:00",
          "2024-07-05T00:00:00",
          "2024-07-08T00:00:00",
          "2024-07-09T00:00:00",
          "2024-07-10T00:00:00",
          "2024-07-11T00:00:00",
          "2024-07-12T00:00:00",
          "2024-07-15T00:00:00",
          "2024-07-16T00:00:00",
          "2024-07-17T00:00:00",
          "2024-07-18T00:00:00",
          "2024-07-19T00:00:00",
          "2024-07-22T00:00:00",
          "2024-07-23T00:00:00",
          "2024-07-24T00:00:00",
          "2024-07-25T00:00:00",
          "2024-07-26T00:00:00",
          "2024-07-29T00:00:00",
          "2024-07-30T00:00:00",
          "2024-07-31T00:00:00",
          "2024-08-01T00:00:00",
          "2024-08-02T00:00:00",
          "2024-08-05T00:00:00",
          "2024-08-06T00:00:00",
          "2024-08-07T00:00:00",
          "2024-08-08T00:00:00",
          "2024-08-09T00:00:00",
          "2024-08-12T00:00:00",
          "2024-08-13T00:00:00",
          "2024-08-14T00:00:00",
          "2024-08-15T00:00:00",
          "2024-08-16T00:00:00",
          "2024-08-19T00:00:00",
          "2024-08-20T00:00:00",
          "2024-08-21T00:00:00",
          "2024-08-22T00:00:00",
          "2024-08-23T00:00:00",
          "2024-08-26T00:00:00",
          "2024-08-27T00:00:00",
          "2024-08-28T00:00:00",
          "2024-08-29T00:00:00",
          "2024-08-30T00:00:00",
          "2024-09-02T00:00:00",
          "2024-09-03T00:00:00",
          "2024-09-04T00:00:00",
          "2024-09-05T00:00:00",
          "2024-09-06T00:00:00",
          "2024-09-09T00:00:00",
          "2024-09-10T00:00:00",
          "2024-09-11T00:00:00",
          "2024-09-12T00:00:00",
          "2024-09-13T00:00:00",
          "2024-09-16T00:00:00",
          "2024-09-17T00:00:00",
          "2024-09-18T00:00:00",
          "2024-09-19T00:00:00",
          "2024-09-20T00:00:00",
          "2024-09-23T00:00:00",
          "2024-09-24T00:00:00",
          "2024-09-25T00:00:00",
          "2024-09-26T00:00:00",
          "2024-09-27T00:00:00",
          "2024-09-30T00:00:00",
          "2024-10-01T00:00:00",
          "2024-10-02T00:00:00",
          "2024-10-03T00:00:00",
          "2024-10-04T00:00:00"
         ],
         "xaxis": "x2",
         "y": [
          67.61,
          65.86,
          64.86,
          63.11,
          62.74,
          61.11,
          59.61,
          55.61,
          55.11,
          54.36,
          54.11,
          55.61,
          54.11,
          54.11,
          54.61,
          54.61,
          56.11,
          52.86,
          52.11,
          50.11,
          51.11,
          51.61,
          53.36,
          50.86,
          50.14,
          51.28,
          49.95,
          49.45,
          52.25,
          51.86,
          49.5,
          48.5,
          48.5,
          47,
          47.1,
          50,
          51,
          48.25,
          48,
          49,
          50.2,
          52.5,
          51.5,
          50.75,
          50.84,
          49.69,
          48.48,
          47.92,
          46.92,
          46.59,
          46.1,
          46.2,
          45.9,
          44.93,
          45.08,
          43.27,
          42.92,
          41.67,
          42.55,
          44,
          46.32,
          46,
          45.92,
          45.31,
          46.63,
          47.96,
          47.38,
          46.96,
          45.22,
          43.32,
          42.84,
          43.84,
          45.25,
          46.48,
          48.5,
          49.6,
          47.55,
          49.04,
          51,
          46.97,
          47.4,
          47.46,
          45.5,
          45,
          44,
          44.44,
          45,
          44.07,
          43.83,
          46.5,
          47.59,
          45,
          47.25,
          46,
          46.25,
          46,
          44.75,
          44.75,
          44.25,
          45,
          44.48,
          44.64,
          45.17,
          46,
          49,
          48.95,
          48.91,
          48.75,
          49,
          49.5,
          48.5,
          49.5,
          49,
          50,
          49,
          50.5,
          52,
          53.5,
          55.5,
          53.96,
          54,
          53,
          54,
          52.5,
          51.5,
          51,
          50,
          50,
          48.5,
          48,
          47.34,
          47.5,
          47.85,
          49.75,
          50,
          48.75,
          46.63,
          46.63,
          48.03,
          46,
          45,
          45.53,
          46.75,
          47.75,
          49,
          49,
          52,
          51.01,
          51.49,
          51.5,
          51.5,
          51.24,
          50,
          50.75,
          50.82,
          50.25,
          50.75,
          51.25,
          51.25,
          52.15,
          52.25,
          52.65,
          53.5,
          54,
          54.5,
          56,
          57.25,
          59.5,
          62.08,
          60.3,
          59,
          59,
          60,
          61.07,
          62,
          63,
          62.69,
          62.33,
          62,
          62.22,
          63.5,
          62.75,
          61,
          60.5,
          59.75,
          60,
          61.5,
          61.4,
          59.5,
          60.25,
          60.85,
          59.03,
          56.67,
          56.77,
          56.7,
          55.5,
          53.5,
          52.75,
          51.5,
          49.75,
          48.46,
          48.72,
          47.75,
          46.08,
          47.2,
          47.75,
          47.34,
          47.75,
          48.25,
          48.62,
          49,
          48,
          47.75,
          47.26,
          48.44
         ],
         "yaxis": "y2"
        },
        {
         "hovertemplate": "Entrega=Q3-25<br>Fecha=%{x}<br>€/MWh=%{y}<extra></extra>",
         "legendgroup": "",
         "line": {
          "color": "#636efa",
          "dash": "solid"
         },
         "marker": {
          "symbol": "circle"
         },
         "mode": "lines",
         "name": "",
         "orientation": "v",
         "showlegend": false,
         "type": "scatter",
         "x": [
          "2023-12-01T00:00:00",
          "2023-12-04T00:00:00",
          "2023-12-05T00:00:00",
          "2023-12-06T00:00:00",
          "2023-12-07T00:00:00",
          "2023-12-08T00:00:00",
          "2023-12-11T00:00:00",
          "2023-12-12T00:00:00",
          "2023-12-13T00:00:00",
          "2023-12-14T00:00:00",
          "2023-12-15T00:00:00",
          "2023-12-18T00:00:00",
          "2023-12-19T00:00:00",
          "2023-12-20T00:00:00",
          "2023-12-21T00:00:00",
          "2023-12-22T00:00:00",
          "2023-12-27T00:00:00",
          "2023-12-28T00:00:00",
          "2023-12-29T00:00:00",
          "2024-01-02T00:00:00",
          "2024-01-03T00:00:00",
          "2024-01-04T00:00:00",
          "2024-01-05T00:00:00",
          "2024-01-08T00:00:00",
          "2024-01-09T00:00:00",
          "2024-01-10T00:00:00",
          "2024-01-11T00:00:00",
          "2024-01-12T00:00:00",
          "2024-01-15T00:00:00",
          "2024-01-16T00:00:00",
          "2024-01-17T00:00:00",
          "2024-01-18T00:00:00",
          "2024-01-19T00:00:00",
          "2024-01-22T00:00:00",
          "2024-01-23T00:00:00",
          "2024-01-24T00:00:00",
          "2024-01-25T00:00:00",
          "2024-01-26T00:00:00",
          "2024-01-29T00:00:00",
          "2024-01-30T00:00:00",
          "2024-01-31T00:00:00",
          "2024-02-01T00:00:00",
          "2024-02-02T00:00:00",
          "2024-02-05T00:00:00",
          "2024-02-06T00:00:00",
          "2024-02-07T00:00:00",
          "2024-02-08T00:00:00",
          "2024-02-09T00:00:00",
          "2024-02-12T00:00:00",
          "2024-02-13T00:00:00",
          "2024-02-14T00:00:00",
          "2024-02-15T00:00:00",
          "2024-02-16T00:00:00",
          "2024-02-19T00:00:00",
          "2024-02-20T00:00:00",
          "2024-02-21T00:00:00",
          "2024-02-22T00:00:00",
          "2024-02-23T00:00:00",
          "2024-02-26T00:00:00",
          "2024-02-27T00:00:00",
          "2024-02-28T00:00:00",
          "2024-02-29T00:00:00",
          "2024-03-01T00:00:00",
          "2024-03-04T00:00:00",
          "2024-03-05T00:00:00",
          "2024-03-06T00:00:00",
          "2024-03-07T00:00:00",
          "2024-03-08T00:00:00",
          "2024-03-11T00:00:00",
          "2024-03-12T00:00:00",
          "2024-03-13T00:00:00",
          "2024-03-14T00:00:00",
          "2024-03-15T00:00:00",
          "2024-03-18T00:00:00",
          "2024-03-19T00:00:00",
          "2024-03-20T00:00:00",
          "2024-03-21T00:00:00",
          "2024-03-22T00:00:00",
          "2024-03-25T00:00:00",
          "2024-03-26T00:00:00",
          "2024-03-27T00:00:00",
          "2024-03-28T00:00:00",
          "2024-04-02T00:00:00",
          "2024-04-03T00:00:00",
          "2024-04-04T00:00:00",
          "2024-04-05T00:00:00",
          "2024-04-08T00:00:00",
          "2024-04-09T00:00:00",
          "2024-04-10T00:00:00",
          "2024-04-11T00:00:00",
          "2024-04-12T00:00:00",
          "2024-04-15T00:00:00",
          "2024-04-16T00:00:00",
          "2024-04-17T00:00:00",
          "2024-04-18T00:00:00",
          "2024-04-19T00:00:00",
          "2024-04-22T00:00:00",
          "2024-04-23T00:00:00",
          "2024-04-24T00:00:00",
          "2024-04-25T00:00:00",
          "2024-04-26T00:00:00",
          "2024-04-29T00:00:00",
          "2024-04-30T00:00:00",
          "2024-05-02T00:00:00",
          "2024-05-03T00:00:00",
          "2024-05-06T00:00:00",
          "2024-05-07T00:00:00",
          "2024-05-08T00:00:00",
          "2024-05-09T00:00:00",
          "2024-05-10T00:00:00",
          "2024-05-13T00:00:00",
          "2024-05-14T00:00:00",
          "2024-05-15T00:00:00",
          "2024-05-16T00:00:00",
          "2024-05-17T00:00:00",
          "2024-05-20T00:00:00",
          "2024-05-21T00:00:00",
          "2024-05-22T00:00:00",
          "2024-05-23T00:00:00",
          "2024-05-24T00:00:00",
          "2024-05-27T00:00:00",
          "2024-05-28T00:00:00",
          "2024-05-29T00:00:00",
          "2024-05-30T00:00:00",
          "2024-05-31T00:00:00",
          "2024-06-03T00:00:00",
          "2024-06-04T00:00:00",
          "2024-06-05T00:00:00",
          "2024-06-06T00:00:00",
          "2024-06-07T00:00:00",
          "2024-06-10T00:00:00",
          "2024-06-11T00:00:00",
          "2024-06-12T00:00:00",
          "2024-06-13T00:00:00",
          "2024-06-14T00:00:00",
          "2024-06-17T00:00:00",
          "2024-06-18T00:00:00",
          "2024-06-19T00:00:00",
          "2024-06-20T00:00:00",
          "2024-06-21T00:00:00",
          "2024-06-24T00:00:00",
          "2024-06-25T00:00:00",
          "2024-06-26T00:00:00",
          "2024-06-27T00:00:00",
          "2024-06-28T00:00:00",
          "2024-07-01T00:00:00",
          "2024-07-02T00:00:00",
          "2024-07-03T00:00:00",
          "2024-07-04T00:00:00",
          "2024-07-05T00:00:00",
          "2024-07-08T00:00:00",
          "2024-07-09T00:00:00",
          "2024-07-10T00:00:00",
          "2024-07-11T00:00:00",
          "2024-07-12T00:00:00",
          "2024-07-15T00:00:00",
          "2024-07-16T00:00:00",
          "2024-07-17T00:00:00",
          "2024-07-18T00:00:00",
          "2024-07-19T00:00:00",
          "2024-07-22T00:00:00",
          "2024-07-23T00:00:00",
          "2024-07-24T00:00:00",
          "2024-07-25T00:00:00",
          "2024-07-26T00:00:00",
          "2024-07-29T00:00:00",
          "2024-07-30T00:00:00",
          "2024-07-31T00:00:00",
          "2024-08-01T00:00:00",
          "2024-08-02T00:00:00",
          "2024-08-05T00:00:00",
          "2024-08-06T00:00:00",
          "2024-08-07T00:00:00",
          "2024-08-08T00:00:00",
          "2024-08-09T00:00:00",
          "2024-08-12T00:00:00",
          "2024-08-13T00:00:00",
          "2024-08-14T00:00:00",
          "2024-08-15T00:00:00",
          "2024-08-16T00:00:00",
          "2024-08-19T00:00:00",
          "2024-08-20T00:00:00",
          "2024-08-21T00:00:00",
          "2024-08-22T00:00:00",
          "2024-08-23T00:00:00",
          "2024-08-26T00:00:00",
          "2024-08-27T00:00:00",
          "2024-08-28T00:00:00",
          "2024-08-29T00:00:00",
          "2024-08-30T00:00:00",
          "2024-09-02T00:00:00",
          "2024-09-03T00:00:00",
          "2024-09-04T00:00:00",
          "2024-09-05T00:00:00",
          "2024-09-06T00:00:00",
          "2024-09-09T00:00:00",
          "2024-09-10T00:00:00",
          "2024-09-11T00:00:00",
          "2024-09-12T00:00:00",
          "2024-09-13T00:00:00",
          "2024-09-16T00:00:00",
          "2024-09-17T00:00:00",
          "2024-09-18T00:00:00",
          "2024-09-19T00:00:00",
          "2024-09-20T00:00:00",
          "2024-09-23T00:00:00",
          "2024-09-24T00:00:00",
          "2024-09-25T00:00:00",
          "2024-09-26T00:00:00",
          "2024-09-27T00:00:00",
          "2024-09-30T00:00:00",
          "2024-10-01T00:00:00",
          "2024-10-02T00:00:00",
          "2024-10-03T00:00:00",
          "2024-10-04T00:00:00"
         ],
         "xaxis": "x3",
         "y": [
          77.37,
          75.62,
          74.62,
          72.87,
          72.5,
          70.87,
          69.37,
          65.37,
          64.87,
          64.12,
          63.87,
          65.37,
          63.87,
          63.87,
          64.37,
          64.37,
          65.87,
          62.62,
          61.87,
          59.87,
          60.87,
          61.37,
          63.12,
          60.62,
          59.9,
          61.04,
          59.71,
          59.21,
          60.48,
          59.25,
          59,
          57.26,
          57.26,
          56,
          56.1,
          56.02,
          57.02,
          58.62,
          60.72,
          59.98,
          61.18,
          60.22,
          60.11,
          59.35,
          59.43,
          58.28,
          57.07,
          56.51,
          55.51,
          55.17,
          54.68,
          54.78,
          54.48,
          53.51,
          53.66,
          51.85,
          51.5,
          50.25,
          51.13,
          52.84,
          55.16,
          56.04,
          55.96,
          55.35,
          56.66,
          57.99,
          57.41,
          56.99,
          55.25,
          53.36,
          53,
          54,
          54.71,
          55.95,
          56.01,
          57.1,
          58,
          59.49,
          60.37,
          60.5,
          61.25,
          61.28,
          59.98,
          59,
          58.59,
          59.03,
          62.25,
          62.25,
          62,
          64.16,
          65,
          65.42,
          65,
          67.5,
          68.5,
          68.75,
          66.5,
          65.95,
          65.75,
          67,
          66.48,
          67.5,
          68.65,
          71,
          70.5,
          70.46,
          70,
          70.06,
          71,
          71.56,
          71.75,
          72.25,
          72.17,
          73.5,
          74.98,
          75.5,
          74.84,
          75.75,
          77.5,
          76,
          77.2,
          76.5,
          77.54,
          80,
          79.4,
          78,
          75,
          71.25,
          71.45,
          71,
          70.5,
          71.5,
          71.5,
          72.5,
          72.2,
          69,
          70.5,
          70.5,
          71.91,
          71.75,
          71.05,
          71.59,
          71.25,
          72.25,
          73.5,
          72.75,
          73,
          74,
          74.49,
          74.73,
          74.73,
          74.25,
          74.75,
          75.5,
          75.5,
          74.75,
          75,
          75,
          75,
          75.25,
          75.11,
          75.75,
          76.45,
          78.12,
          77.1,
          79.33,
          80.13,
          81,
          84.25,
          84.5,
          79.75,
          81,
          81.75,
          82.83,
          82.52,
          83.5,
          83.19,
          83.25,
          83,
          83.22,
          84,
          82.5,
          81.88,
          83.5,
          83.48,
          83.24,
          85.19,
          84.5,
          85.13,
          85.49,
          84.75,
          82.93,
          81,
          81.1,
          82.75,
          83.25,
          81.49,
          81.25,
          78.6,
          79,
          77.7,
          78.25,
          77.25,
          75.75,
          77.5,
          76.53,
          76.12,
          76.29,
          76.32,
          77,
          78.25,
          77.25,
          77.75,
          79.25,
          79.25
         ],
         "yaxis": "y3"
        },
        {
         "hovertemplate": "Entrega=Q4-25<br>Fecha=%{x}<br>€/MWh=%{y}<extra></extra>",
         "legendgroup": "",
         "line": {
          "color": "#636efa",
          "dash": "solid"
         },
         "marker": {
          "symbol": "circle"
         },
         "mode": "lines",
         "name": "",
         "orientation": "v",
         "showlegend": false,
         "type": "scatter",
         "x": [
          "2023-12-01T00:00:00",
          "2023-12-04T00:00:00",
          "2023-12-05T00:00:00",
          "2023-12-06T00:00:00",
          "2023-12-07T00:00:00",
          "2023-12-08T00:00:00",
          "2023-12-11T00:00:00",
          "2023-12-12T00:00:00",
          "2023-12-13T00:00:00",
          "2023-12-14T00:00:00",
          "2023-12-15T00:00:00",
          "2023-12-18T00:00:00",
          "2023-12-19T00:00:00",
          "2023-12-20T00:00:00",
          "2023-12-21T00:00:00",
          "2023-12-22T00:00:00",
          "2023-12-27T00:00:00",
          "2023-12-28T00:00:00",
          "2023-12-29T00:00:00",
          "2024-01-02T00:00:00",
          "2024-01-03T00:00:00",
          "2024-01-04T00:00:00",
          "2024-01-05T00:00:00",
          "2024-01-08T00:00:00",
          "2024-01-09T00:00:00",
          "2024-01-10T00:00:00",
          "2024-01-11T00:00:00",
          "2024-01-12T00:00:00",
          "2024-01-15T00:00:00",
          "2024-01-16T00:00:00",
          "2024-01-17T00:00:00",
          "2024-01-18T00:00:00",
          "2024-01-19T00:00:00",
          "2024-01-22T00:00:00",
          "2024-01-23T00:00:00",
          "2024-01-24T00:00:00",
          "2024-01-25T00:00:00",
          "2024-01-26T00:00:00",
          "2024-01-29T00:00:00",
          "2024-01-30T00:00:00",
          "2024-01-31T00:00:00",
          "2024-02-01T00:00:00",
          "2024-02-02T00:00:00",
          "2024-02-05T00:00:00",
          "2024-02-06T00:00:00",
          "2024-02-07T00:00:00",
          "2024-02-08T00:00:00",
          "2024-02-09T00:00:00",
          "2024-02-12T00:00:00",
          "2024-02-13T00:00:00",
          "2024-02-14T00:00:00",
          "2024-02-15T00:00:00",
          "2024-02-16T00:00:00",
          "2024-02-19T00:00:00",
          "2024-02-20T00:00:00",
          "2024-02-21T00:00:00",
          "2024-02-22T00:00:00",
          "2024-02-23T00:00:00",
          "2024-02-26T00:00:00",
          "2024-02-27T00:00:00",
          "2024-02-28T00:00:00",
          "2024-02-29T00:00:00",
          "2024-03-01T00:00:00",
          "2024-03-04T00:00:00",
          "2024-03-05T00:00:00",
          "2024-03-06T00:00:00",
          "2024-03-07T00:00:00",
          "2024-03-08T00:00:00",
          "2024-03-11T00:00:00",
          "2024-03-12T00:00:00",
          "2024-03-13T00:00:00",
          "2024-03-14T00:00:00",
          "2024-03-15T00:00:00",
          "2024-03-18T00:00:00",
          "2024-03-19T00:00:00",
          "2024-03-20T00:00:00",
          "2024-03-21T00:00:00",
          "2024-03-22T00:00:00",
          "2024-03-25T00:00:00",
          "2024-03-26T00:00:00",
          "2024-03-27T00:00:00",
          "2024-03-28T00:00:00",
          "2024-04-02T00:00:00",
          "2024-04-03T00:00:00",
          "2024-04-04T00:00:00",
          "2024-04-05T00:00:00",
          "2024-04-08T00:00:00",
          "2024-04-09T00:00:00",
          "2024-04-10T00:00:00",
          "2024-04-11T00:00:00",
          "2024-04-12T00:00:00",
          "2024-04-15T00:00:00",
          "2024-04-16T00:00:00",
          "2024-04-17T00:00:00",
          "2024-04-18T00:00:00",
          "2024-04-19T00:00:00",
          "2024-04-22T00:00:00",
          "2024-04-23T00:00:00",
          "2024-04-24T00:00:00",
          "2024-04-25T00:00:00",
          "2024-04-26T00:00:00",
          "2024-04-29T00:00:00",
          "2024-04-30T00:00:00",
          "2024-05-02T00:00:00",
          "2024-05-03T00:00:00",
          "2024-05-06T00:00:00",
          "2024-05-07T00:00:00",
          "2024-05-08T00:00:00",
          "2024-05-09T00:00:00",
          "2024-05-10T00:00:00",
          "2024-05-13T00:00:00",
          "2024-05-14T00:00:00",
          "2024-05-15T00:00:00",
          "2024-05-16T00:00:00",
          "2024-05-17T00:00:00",
          "2024-05-20T00:00:00",
          "2024-05-21T00:00:00",
          "2024-05-22T00:00:00",
          "2024-05-23T00:00:00",
          "2024-05-24T00:00:00",
          "2024-05-27T00:00:00",
          "2024-05-28T00:00:00",
          "2024-05-29T00:00:00",
          "2024-05-30T00:00:00",
          "2024-05-31T00:00:00",
          "2024-06-03T00:00:00",
          "2024-06-04T00:00:00",
          "2024-06-05T00:00:00",
          "2024-06-06T00:00:00",
          "2024-06-07T00:00:00",
          "2024-06-10T00:00:00",
          "2024-06-11T00:00:00",
          "2024-06-12T00:00:00",
          "2024-06-13T00:00:00",
          "2024-06-14T00:00:00",
          "2024-06-17T00:00:00",
          "2024-06-18T00:00:00",
          "2024-06-19T00:00:00",
          "2024-06-20T00:00:00",
          "2024-06-21T00:00:00",
          "2024-06-24T00:00:00",
          "2024-06-25T00:00:00",
          "2024-06-26T00:00:00",
          "2024-06-27T00:00:00",
          "2024-06-28T00:00:00",
          "2024-07-01T00:00:00",
          "2024-07-02T00:00:00",
          "2024-07-03T00:00:00",
          "2024-07-04T00:00:00",
          "2024-07-05T00:00:00",
          "2024-07-08T00:00:00",
          "2024-07-09T00:00:00",
          "2024-07-10T00:00:00",
          "2024-07-11T00:00:00",
          "2024-07-12T00:00:00",
          "2024-07-15T00:00:00",
          "2024-07-16T00:00:00",
          "2024-07-17T00:00:00",
          "2024-07-18T00:00:00",
          "2024-07-19T00:00:00",
          "2024-07-22T00:00:00",
          "2024-07-23T00:00:00",
          "2024-07-24T00:00:00",
          "2024-07-25T00:00:00",
          "2024-07-26T00:00:00",
          "2024-07-29T00:00:00",
          "2024-07-30T00:00:00",
          "2024-07-31T00:00:00",
          "2024-08-01T00:00:00",
          "2024-08-02T00:00:00",
          "2024-08-05T00:00:00",
          "2024-08-06T00:00:00",
          "2024-08-07T00:00:00",
          "2024-08-08T00:00:00",
          "2024-08-09T00:00:00",
          "2024-08-12T00:00:00",
          "2024-08-13T00:00:00",
          "2024-08-14T00:00:00",
          "2024-08-15T00:00:00",
          "2024-08-16T00:00:00",
          "2024-08-19T00:00:00",
          "2024-08-20T00:00:00",
          "2024-08-21T00:00:00",
          "2024-08-22T00:00:00",
          "2024-08-23T00:00:00",
          "2024-08-26T00:00:00",
          "2024-08-27T00:00:00",
          "2024-08-28T00:00:00",
          "2024-08-29T00:00:00",
          "2024-08-30T00:00:00",
          "2024-09-02T00:00:00",
          "2024-09-03T00:00:00",
          "2024-09-04T00:00:00",
          "2024-09-05T00:00:00",
          "2024-09-06T00:00:00",
          "2024-09-09T00:00:00",
          "2024-09-10T00:00:00",
          "2024-09-11T00:00:00",
          "2024-09-12T00:00:00",
          "2024-09-13T00:00:00",
          "2024-09-16T00:00:00",
          "2024-09-17T00:00:00",
          "2024-09-18T00:00:00",
          "2024-09-19T00:00:00",
          "2024-09-20T00:00:00",
          "2024-09-23T00:00:00",
          "2024-09-24T00:00:00",
          "2024-09-25T00:00:00",
          "2024-09-26T00:00:00",
          "2024-09-27T00:00:00",
          "2024-09-30T00:00:00",
          "2024-10-01T00:00:00",
          "2024-10-02T00:00:00",
          "2024-10-03T00:00:00",
          "2024-10-04T00:00:00"
         ],
         "xaxis": "x4",
         "y": [
          81.19,
          79.44,
          78.44,
          76.69,
          76.32,
          74.69,
          73.19,
          69.19,
          68.69,
          67.94,
          67.69,
          69.19,
          67.69,
          67.69,
          68.19,
          68.19,
          69.69,
          66.44,
          65.69,
          63.69,
          64.69,
          65.19,
          66.94,
          64.44,
          63.72,
          64.86,
          63.53,
          63.03,
          64.3,
          63.91,
          65.94,
          64.2,
          64.2,
          59.99,
          60.09,
          60.02,
          61.02,
          62.62,
          64.72,
          63.99,
          65.18,
          64.22,
          64.11,
          63.35,
          63.43,
          62.27,
          61.06,
          60.49,
          59.49,
          59.15,
          58.66,
          58.77,
          58.47,
          57.49,
          57.64,
          55.84,
          55.49,
          54.25,
          55.14,
          56.85,
          59.16,
          60.03,
          59.96,
          59.35,
          60.66,
          61.98,
          61.41,
          60.98,
          59.24,
          57.35,
          56.87,
          57.87,
          58.59,
          59.83,
          59.9,
          60.99,
          58.95,
          60.44,
          61.33,
          61.25,
          62,
          62.25,
          60.94,
          60,
          59,
          59.45,
          62.5,
          61.58,
          61.75,
          64.25,
          65.34,
          63,
          64,
          66,
          67.4,
          68,
          67.2,
          67,
          66.5,
          68,
          67.48,
          67.75,
          69.5,
          74.5,
          74,
          73.96,
          73.5,
          73.56,
          75,
          75.25,
          76,
          76.5,
          76.42,
          77.56,
          78.75,
          81.5,
          85,
          84.28,
          84.43,
          85,
          86.19,
          85.78,
          86.82,
          85.12,
          84.51,
          83,
          82.87,
          80.99,
          76.5,
          78.33,
          76,
          76.33,
          76.31,
          77.17,
          77,
          73.73,
          71.62,
          71.62,
          73.03,
          74.25,
          73.5,
          74.04,
          72.52,
          73.24,
          74.49,
          75.25,
          75.13,
          76,
          76.49,
          76.72,
          76.72,
          76.45,
          77.16,
          77.91,
          77.97,
          77.25,
          77.32,
          77.25,
          77.25,
          77.5,
          77.36,
          77.75,
          78.46,
          80.25,
          86.38,
          88,
          88.8,
          89.52,
          91.5,
          92,
          90.5,
          91,
          91.01,
          90.5,
          90,
          90.75,
          90.44,
          90.09,
          91,
          91.22,
          91.02,
          89.5,
          89,
          88.5,
          88.25,
          88.01,
          89.96,
          89.85,
          90.48,
          90.83,
          90,
          88.18,
          85.83,
          85.93,
          87.58,
          88.51,
          86.25,
          86,
          83,
          82.5,
          80,
          81.5,
          80.02,
          78.36,
          78.59,
          78.5,
          78.1,
          78.27,
          78.5,
          78.9,
          77.9,
          76.9,
          78.75,
          79.3,
          80.04
         ],
         "yaxis": "y4"
        }
       ],
       "layout": {
        "annotations": [
         {
          "font": {},
          "showarrow": false,
          "text": "Entrega=Q1-25",
          "x": 0.1175,
          "xanchor": "center",
          "xref": "paper",
          "y": 1,
          "yanchor": "bottom",
          "yref": "paper"
         },
         {
          "font": {},
          "showarrow": false,
          "text": "Entrega=Q2-25",
          "x": 0.3725,
          "xanchor": "center",
          "xref": "paper",
          "y": 1,
          "yanchor": "bottom",
          "yref": "paper"
         },
         {
          "font": {},
          "showarrow": false,
          "text": "Entrega=Q3-25",
          "x": 0.6275,
          "xanchor": "center",
          "xref": "paper",
          "y": 1,
          "yanchor": "bottom",
          "yref": "paper"
         },
         {
          "font": {},
          "showarrow": false,
          "text": "Entrega=Q4-25",
          "x": 0.8824999999999998,
          "xanchor": "center",
          "xref": "paper",
          "y": 1,
          "yanchor": "bottom",
          "yref": "paper"
         }
        ],
        "legend": {
         "tracegroupgap": 0
        },
        "margin": {
         "t": 60
        },
        "template": {
         "data": {
          "bar": [
           {
            "error_x": {
             "color": "#2a3f5f"
            },
            "error_y": {
             "color": "#2a3f5f"
            },
            "marker": {
             "line": {
              "color": "#E5ECF6",
              "width": 0.5
             },
             "pattern": {
              "fillmode": "overlay",
              "size": 10,
              "solidity": 0.2
             }
            },
            "type": "bar"
           }
          ],
          "barpolar": [
           {
            "marker": {
             "line": {
              "color": "#E5ECF6",
              "width": 0.5
             },
             "pattern": {
              "fillmode": "overlay",
              "size": 10,
              "solidity": 0.2
             }
            },
            "type": "barpolar"
           }
          ],
          "carpet": [
           {
            "aaxis": {
             "endlinecolor": "#2a3f5f",
             "gridcolor": "white",
             "linecolor": "white",
             "minorgridcolor": "white",
             "startlinecolor": "#2a3f5f"
            },
            "baxis": {
             "endlinecolor": "#2a3f5f",
             "gridcolor": "white",
             "linecolor": "white",
             "minorgridcolor": "white",
             "startlinecolor": "#2a3f5f"
            },
            "type": "carpet"
           }
          ],
          "choropleth": [
           {
            "colorbar": {
             "outlinewidth": 0,
             "ticks": ""
            },
            "type": "choropleth"
           }
          ],
          "contour": [
           {
            "colorbar": {
             "outlinewidth": 0,
             "ticks": ""
            },
            "colorscale": [
             [
              0,
              "#0d0887"
             ],
             [
              0.1111111111111111,
              "#46039f"
             ],
             [
              0.2222222222222222,
              "#7201a8"
             ],
             [
              0.3333333333333333,
              "#9c179e"
             ],
             [
              0.4444444444444444,
              "#bd3786"
             ],
             [
              0.5555555555555556,
              "#d8576b"
             ],
             [
              0.6666666666666666,
              "#ed7953"
             ],
             [
              0.7777777777777778,
              "#fb9f3a"
             ],
             [
              0.8888888888888888,
              "#fdca26"
             ],
             [
              1,
              "#f0f921"
             ]
            ],
            "type": "contour"
           }
          ],
          "contourcarpet": [
           {
            "colorbar": {
             "outlinewidth": 0,
             "ticks": ""
            },
            "type": "contourcarpet"
           }
          ],
          "heatmap": [
           {
            "colorbar": {
             "outlinewidth": 0,
             "ticks": ""
            },
            "colorscale": [
             [
              0,
              "#0d0887"
             ],
             [
              0.1111111111111111,
              "#46039f"
             ],
             [
              0.2222222222222222,
              "#7201a8"
             ],
             [
              0.3333333333333333,
              "#9c179e"
             ],
             [
              0.4444444444444444,
              "#bd3786"
             ],
             [
              0.5555555555555556,
              "#d8576b"
             ],
             [
              0.6666666666666666,
              "#ed7953"
             ],
             [
              0.7777777777777778,
              "#fb9f3a"
             ],
             [
              0.8888888888888888,
              "#fdca26"
             ],
             [
              1,
              "#f0f921"
             ]
            ],
            "type": "heatmap"
           }
          ],
          "heatmapgl": [
           {
            "colorbar": {
             "outlinewidth": 0,
             "ticks": ""
            },
            "colorscale": [
             [
              0,
              "#0d0887"
             ],
             [
              0.1111111111111111,
              "#46039f"
             ],
             [
              0.2222222222222222,
              "#7201a8"
             ],
             [
              0.3333333333333333,
              "#9c179e"
             ],
             [
              0.4444444444444444,
              "#bd3786"
             ],
             [
              0.5555555555555556,
              "#d8576b"
             ],
             [
              0.6666666666666666,
              "#ed7953"
             ],
             [
              0.7777777777777778,
              "#fb9f3a"
             ],
             [
              0.8888888888888888,
              "#fdca26"
             ],
             [
              1,
              "#f0f921"
             ]
            ],
            "type": "heatmapgl"
           }
          ],
          "histogram": [
           {
            "marker": {
             "pattern": {
              "fillmode": "overlay",
              "size": 10,
              "solidity": 0.2
             }
            },
            "type": "histogram"
           }
          ],
          "histogram2d": [
           {
            "colorbar": {
             "outlinewidth": 0,
             "ticks": ""
            },
            "colorscale": [
             [
              0,
              "#0d0887"
             ],
             [
              0.1111111111111111,
              "#46039f"
             ],
             [
              0.2222222222222222,
              "#7201a8"
             ],
             [
              0.3333333333333333,
              "#9c179e"
             ],
             [
              0.4444444444444444,
              "#bd3786"
             ],
             [
              0.5555555555555556,
              "#d8576b"
             ],
             [
              0.6666666666666666,
              "#ed7953"
             ],
             [
              0.7777777777777778,
              "#fb9f3a"
             ],
             [
              0.8888888888888888,
              "#fdca26"
             ],
             [
              1,
              "#f0f921"
             ]
            ],
            "type": "histogram2d"
           }
          ],
          "histogram2dcontour": [
           {
            "colorbar": {
             "outlinewidth": 0,
             "ticks": ""
            },
            "colorscale": [
             [
              0,
              "#0d0887"
             ],
             [
              0.1111111111111111,
              "#46039f"
             ],
             [
              0.2222222222222222,
              "#7201a8"
             ],
             [
              0.3333333333333333,
              "#9c179e"
             ],
             [
              0.4444444444444444,
              "#bd3786"
             ],
             [
              0.5555555555555556,
              "#d8576b"
             ],
             [
              0.6666666666666666,
              "#ed7953"
             ],
             [
              0.7777777777777778,
              "#fb9f3a"
             ],
             [
              0.8888888888888888,
              "#fdca26"
             ],
             [
              1,
              "#f0f921"
             ]
            ],
            "type": "histogram2dcontour"
           }
          ],
          "mesh3d": [
           {
            "colorbar": {
             "outlinewidth": 0,
             "ticks": ""
            },
            "type": "mesh3d"
           }
          ],
          "parcoords": [
           {
            "line": {
             "colorbar": {
              "outlinewidth": 0,
              "ticks": ""
             }
            },
            "type": "parcoords"
           }
          ],
          "pie": [
           {
            "automargin": true,
            "type": "pie"
           }
          ],
          "scatter": [
           {
            "fillpattern": {
             "fillmode": "overlay",
             "size": 10,
             "solidity": 0.2
            },
            "type": "scatter"
           }
          ],
          "scatter3d": [
           {
            "line": {
             "colorbar": {
              "outlinewidth": 0,
              "ticks": ""
             }
            },
            "marker": {
             "colorbar": {
              "outlinewidth": 0,
              "ticks": ""
             }
            },
            "type": "scatter3d"
           }
          ],
          "scattercarpet": [
           {
            "marker": {
             "colorbar": {
              "outlinewidth": 0,
              "ticks": ""
             }
            },
            "type": "scattercarpet"
           }
          ],
          "scattergeo": [
           {
            "marker": {
             "colorbar": {
              "outlinewidth": 0,
              "ticks": ""
             }
            },
            "type": "scattergeo"
           }
          ],
          "scattergl": [
           {
            "marker": {
             "colorbar": {
              "outlinewidth": 0,
              "ticks": ""
             }
            },
            "type": "scattergl"
           }
          ],
          "scattermapbox": [
           {
            "marker": {
             "colorbar": {
              "outlinewidth": 0,
              "ticks": ""
             }
            },
            "type": "scattermapbox"
           }
          ],
          "scatterpolar": [
           {
            "marker": {
             "colorbar": {
              "outlinewidth": 0,
              "ticks": ""
             }
            },
            "type": "scatterpolar"
           }
          ],
          "scatterpolargl": [
           {
            "marker": {
             "colorbar": {
              "outlinewidth": 0,
              "ticks": ""
             }
            },
            "type": "scatterpolargl"
           }
          ],
          "scatterternary": [
           {
            "marker": {
             "colorbar": {
              "outlinewidth": 0,
              "ticks": ""
             }
            },
            "type": "scatterternary"
           }
          ],
          "surface": [
           {
            "colorbar": {
             "outlinewidth": 0,
             "ticks": ""
            },
            "colorscale": [
             [
              0,
              "#0d0887"
             ],
             [
              0.1111111111111111,
              "#46039f"
             ],
             [
              0.2222222222222222,
              "#7201a8"
             ],
             [
              0.3333333333333333,
              "#9c179e"
             ],
             [
              0.4444444444444444,
              "#bd3786"
             ],
             [
              0.5555555555555556,
              "#d8576b"
             ],
             [
              0.6666666666666666,
              "#ed7953"
             ],
             [
              0.7777777777777778,
              "#fb9f3a"
             ],
             [
              0.8888888888888888,
              "#fdca26"
             ],
             [
              1,
              "#f0f921"
             ]
            ],
            "type": "surface"
           }
          ],
          "table": [
           {
            "cells": {
             "fill": {
              "color": "#EBF0F8"
             },
             "line": {
              "color": "white"
             }
            },
            "header": {
             "fill": {
              "color": "#C8D4E3"
             },
             "line": {
              "color": "white"
             }
            },
            "type": "table"
           }
          ]
         },
         "layout": {
          "annotationdefaults": {
           "arrowcolor": "#2a3f5f",
           "arrowhead": 0,
           "arrowwidth": 1
          },
          "autotypenumbers": "strict",
          "coloraxis": {
           "colorbar": {
            "outlinewidth": 0,
            "ticks": ""
           }
          },
          "colorscale": {
           "diverging": [
            [
             0,
             "#8e0152"
            ],
            [
             0.1,
             "#c51b7d"
            ],
            [
             0.2,
             "#de77ae"
            ],
            [
             0.3,
             "#f1b6da"
            ],
            [
             0.4,
             "#fde0ef"
            ],
            [
             0.5,
             "#f7f7f7"
            ],
            [
             0.6,
             "#e6f5d0"
            ],
            [
             0.7,
             "#b8e186"
            ],
            [
             0.8,
             "#7fbc41"
            ],
            [
             0.9,
             "#4d9221"
            ],
            [
             1,
             "#276419"
            ]
           ],
           "sequential": [
            [
             0,
             "#0d0887"
            ],
            [
             0.1111111111111111,
             "#46039f"
            ],
            [
             0.2222222222222222,
             "#7201a8"
            ],
            [
             0.3333333333333333,
             "#9c179e"
            ],
            [
             0.4444444444444444,
             "#bd3786"
            ],
            [
             0.5555555555555556,
             "#d8576b"
            ],
            [
             0.6666666666666666,
             "#ed7953"
            ],
            [
             0.7777777777777778,
             "#fb9f3a"
            ],
            [
             0.8888888888888888,
             "#fdca26"
            ],
            [
             1,
             "#f0f921"
            ]
           ],
           "sequentialminus": [
            [
             0,
             "#0d0887"
            ],
            [
             0.1111111111111111,
             "#46039f"
            ],
            [
             0.2222222222222222,
             "#7201a8"
            ],
            [
             0.3333333333333333,
             "#9c179e"
            ],
            [
             0.4444444444444444,
             "#bd3786"
            ],
            [
             0.5555555555555556,
             "#d8576b"
            ],
            [
             0.6666666666666666,
             "#ed7953"
            ],
            [
             0.7777777777777778,
             "#fb9f3a"
            ],
            [
             0.8888888888888888,
             "#fdca26"
            ],
            [
             1,
             "#f0f921"
            ]
           ]
          },
          "colorway": [
           "#636efa",
           "#EF553B",
           "#00cc96",
           "#ab63fa",
           "#FFA15A",
           "#19d3f3",
           "#FF6692",
           "#B6E880",
           "#FF97FF",
           "#FECB52"
          ],
          "font": {
           "color": "#2a3f5f"
          },
          "geo": {
           "bgcolor": "white",
           "lakecolor": "white",
           "landcolor": "#E5ECF6",
           "showlakes": true,
           "showland": true,
           "subunitcolor": "white"
          },
          "hoverlabel": {
           "align": "left"
          },
          "hovermode": "closest",
          "mapbox": {
           "style": "light"
          },
          "paper_bgcolor": "white",
          "plot_bgcolor": "#E5ECF6",
          "polar": {
           "angularaxis": {
            "gridcolor": "white",
            "linecolor": "white",
            "ticks": ""
           },
           "bgcolor": "#E5ECF6",
           "radialaxis": {
            "gridcolor": "white",
            "linecolor": "white",
            "ticks": ""
           }
          },
          "scene": {
           "xaxis": {
            "backgroundcolor": "#E5ECF6",
            "gridcolor": "white",
            "gridwidth": 2,
            "linecolor": "white",
            "showbackground": true,
            "ticks": "",
            "zerolinecolor": "white"
           },
           "yaxis": {
            "backgroundcolor": "#E5ECF6",
            "gridcolor": "white",
            "gridwidth": 2,
            "linecolor": "white",
            "showbackground": true,
            "ticks": "",
            "zerolinecolor": "white"
           },
           "zaxis": {
            "backgroundcolor": "#E5ECF6",
            "gridcolor": "white",
            "gridwidth": 2,
            "linecolor": "white",
            "showbackground": true,
            "ticks": "",
            "zerolinecolor": "white"
           }
          },
          "shapedefaults": {
           "line": {
            "color": "#2a3f5f"
           }
          },
          "ternary": {
           "aaxis": {
            "gridcolor": "white",
            "linecolor": "white",
            "ticks": ""
           },
           "baxis": {
            "gridcolor": "white",
            "linecolor": "white",
            "ticks": ""
           },
           "bgcolor": "#E5ECF6",
           "caxis": {
            "gridcolor": "white",
            "linecolor": "white",
            "ticks": ""
           }
          },
          "title": {
           "x": 0.05
          },
          "xaxis": {
           "automargin": true,
           "gridcolor": "white",
           "linecolor": "white",
           "ticks": "",
           "title": {
            "standoff": 15
           },
           "zerolinecolor": "white",
           "zerolinewidth": 2
          },
          "yaxis": {
           "automargin": true,
           "gridcolor": "white",
           "linecolor": "white",
           "ticks": "",
           "title": {
            "standoff": 15
           },
           "zerolinecolor": "white",
           "zerolinewidth": 2
          }
         }
        },
        "xaxis": {
         "anchor": "y",
         "domain": [
          0,
          0.235
         ],
         "title": {
          "text": "Fecha"
         }
        },
        "xaxis2": {
         "anchor": "y2",
         "domain": [
          0.255,
          0.49
         ],
         "matches": "x",
         "title": {
          "text": "Fecha"
         }
        },
        "xaxis3": {
         "anchor": "y3",
         "domain": [
          0.51,
          0.745
         ],
         "matches": "x",
         "title": {
          "text": "Fecha"
         }
        },
        "xaxis4": {
         "anchor": "y4",
         "domain": [
          0.7649999999999999,
          0.9999999999999999
         ],
         "matches": "x",
         "title": {
          "text": "Fecha"
         }
        },
        "yaxis": {
         "anchor": "x",
         "domain": [
          0,
          1
         ],
         "title": {
          "text": "€/MWh"
         }
        },
        "yaxis2": {
         "anchor": "x2",
         "domain": [
          0,
          1
         ],
         "matches": "y",
         "showticklabels": false
        },
        "yaxis3": {
         "anchor": "x3",
         "domain": [
          0,
          1
         ],
         "matches": "y",
         "showticklabels": false
        },
        "yaxis4": {
         "anchor": "x4",
         "domain": [
          0,
          1
         ],
         "matches": "y",
         "showticklabels": false
        }
       }
      }
     },
     "metadata": {},
     "output_type": "display_data"
    }
   ],
   "source": [
    "graf_omip_trim"
   ]
  }
 ],
 "metadata": {
  "kernelspec": {
   "display_name": "base",
   "language": "python",
   "name": "python3"
  },
  "language_info": {
   "codemirror_mode": {
    "name": "ipython",
    "version": 3
   },
   "file_extension": ".py",
   "mimetype": "text/x-python",
   "name": "python",
   "nbconvert_exporter": "python",
   "pygments_lexer": "ipython3",
   "version": "3.11.4"
  }
 },
 "nbformat": 4,
 "nbformat_minor": 2
}
